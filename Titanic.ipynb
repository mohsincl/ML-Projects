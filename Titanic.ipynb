{
 "cells": [
  {
   "cell_type": "code",
   "execution_count": 49,
   "metadata": {
    "collapsed": true
   },
   "outputs": [],
   "source": [
    "# Title: Titanic- Machine Learning Through Disaster \n",
    "# Objective: Prediction of Survival on the Titanic \n",
    "# Model 1: Using a Simple Model based on Gender only\n",
    "\n",
    "# Imports\n",
    "\n",
    "# pandas, numpy\n",
    "import pandas as pd\n",
    "from pandas import Series, DataFrame\n",
    "import numpy as np\n",
    "\n",
    "# csv, matplotlib, seaborn\n",
    "import csv\n",
    "import matplotlib.pyplot as plt\n",
    "import seaborn as sns\n",
    "sns.set_style('whitegrid')\n",
    "%matplotlib inline\n",
    "\n",
    "# machine learning\n",
    "from sklearn.linear_model import LogisticRegression\n",
    "from sklearn.svm import SVC, LinearSVC\n",
    "from sklearn.ensemble import RandomForestClassifier\n",
    "from sklearn.neighbors import KNeighborsClassifier\n",
    "from sklearn.naive_bayes import GaussianNB"
   ]
  },
  {
   "cell_type": "code",
   "execution_count": 55,
   "metadata": {
    "collapsed": false
   },
   "outputs": [
    {
     "name": "stdout",
     "output_type": "stream",
     "text": [
      "<class 'pandas.core.frame.DataFrame'>\n",
      "RangeIndex: 891 entries, 0 to 890\n",
      "Data columns (total 12 columns):\n",
      "PassengerId    891 non-null int64\n",
      "Survived       891 non-null int64\n",
      "Pclass         891 non-null int64\n",
      "Name           891 non-null object\n",
      "Sex            891 non-null object\n",
      "Age            714 non-null float64\n",
      "SibSp          891 non-null int64\n",
      "Parch          891 non-null int64\n",
      "Ticket         891 non-null object\n",
      "Fare           891 non-null float64\n",
      "Cabin          204 non-null object\n",
      "Embarked       889 non-null object\n",
      "dtypes: float64(2), int64(5), object(5)\n",
      "memory usage: 83.6+ KB\n"
     ]
    },
    {
     "data": {
      "text/html": [
       "<div>\n",
       "<table border=\"1\" class=\"dataframe\">\n",
       "  <thead>\n",
       "    <tr style=\"text-align: right;\">\n",
       "      <th></th>\n",
       "      <th>PassengerId</th>\n",
       "      <th>Survived</th>\n",
       "      <th>Pclass</th>\n",
       "      <th>Name</th>\n",
       "      <th>Sex</th>\n",
       "      <th>Age</th>\n",
       "      <th>SibSp</th>\n",
       "      <th>Parch</th>\n",
       "      <th>Ticket</th>\n",
       "      <th>Fare</th>\n",
       "      <th>Cabin</th>\n",
       "      <th>Embarked</th>\n",
       "    </tr>\n",
       "  </thead>\n",
       "  <tbody>\n",
       "    <tr>\n",
       "      <th>0</th>\n",
       "      <td>1</td>\n",
       "      <td>0</td>\n",
       "      <td>3</td>\n",
       "      <td>Braund, Mr. Owen Harris</td>\n",
       "      <td>male</td>\n",
       "      <td>22.0</td>\n",
       "      <td>1</td>\n",
       "      <td>0</td>\n",
       "      <td>A/5 21171</td>\n",
       "      <td>7.2500</td>\n",
       "      <td>NaN</td>\n",
       "      <td>S</td>\n",
       "    </tr>\n",
       "    <tr>\n",
       "      <th>1</th>\n",
       "      <td>2</td>\n",
       "      <td>1</td>\n",
       "      <td>1</td>\n",
       "      <td>Cumings, Mrs. John Bradley (Florence Briggs Th...</td>\n",
       "      <td>female</td>\n",
       "      <td>38.0</td>\n",
       "      <td>1</td>\n",
       "      <td>0</td>\n",
       "      <td>PC 17599</td>\n",
       "      <td>71.2833</td>\n",
       "      <td>C85</td>\n",
       "      <td>C</td>\n",
       "    </tr>\n",
       "    <tr>\n",
       "      <th>2</th>\n",
       "      <td>3</td>\n",
       "      <td>1</td>\n",
       "      <td>3</td>\n",
       "      <td>Heikkinen, Miss. Laina</td>\n",
       "      <td>female</td>\n",
       "      <td>26.0</td>\n",
       "      <td>0</td>\n",
       "      <td>0</td>\n",
       "      <td>STON/O2. 3101282</td>\n",
       "      <td>7.9250</td>\n",
       "      <td>NaN</td>\n",
       "      <td>S</td>\n",
       "    </tr>\n",
       "    <tr>\n",
       "      <th>3</th>\n",
       "      <td>4</td>\n",
       "      <td>1</td>\n",
       "      <td>1</td>\n",
       "      <td>Futrelle, Mrs. Jacques Heath (Lily May Peel)</td>\n",
       "      <td>female</td>\n",
       "      <td>35.0</td>\n",
       "      <td>1</td>\n",
       "      <td>0</td>\n",
       "      <td>113803</td>\n",
       "      <td>53.1000</td>\n",
       "      <td>C123</td>\n",
       "      <td>S</td>\n",
       "    </tr>\n",
       "    <tr>\n",
       "      <th>4</th>\n",
       "      <td>5</td>\n",
       "      <td>0</td>\n",
       "      <td>3</td>\n",
       "      <td>Allen, Mr. William Henry</td>\n",
       "      <td>male</td>\n",
       "      <td>35.0</td>\n",
       "      <td>0</td>\n",
       "      <td>0</td>\n",
       "      <td>373450</td>\n",
       "      <td>8.0500</td>\n",
       "      <td>NaN</td>\n",
       "      <td>S</td>\n",
       "    </tr>\n",
       "  </tbody>\n",
       "</table>\n",
       "</div>"
      ],
      "text/plain": [
       "   PassengerId  Survived  Pclass  \\\n",
       "0            1         0       3   \n",
       "1            2         1       1   \n",
       "2            3         1       3   \n",
       "3            4         1       1   \n",
       "4            5         0       3   \n",
       "\n",
       "                                                Name     Sex   Age  SibSp  \\\n",
       "0                            Braund, Mr. Owen Harris    male  22.0      1   \n",
       "1  Cumings, Mrs. John Bradley (Florence Briggs Th...  female  38.0      1   \n",
       "2                             Heikkinen, Miss. Laina  female  26.0      0   \n",
       "3       Futrelle, Mrs. Jacques Heath (Lily May Peel)  female  35.0      1   \n",
       "4                           Allen, Mr. William Henry    male  35.0      0   \n",
       "\n",
       "   Parch            Ticket     Fare Cabin Embarked  \n",
       "0      0         A/5 21171   7.2500   NaN        S  \n",
       "1      0          PC 17599  71.2833   C85        C  \n",
       "2      0  STON/O2. 3101282   7.9250   NaN        S  \n",
       "3      0            113803  53.1000  C123        S  \n",
       "4      0            373450   8.0500   NaN        S  "
      ]
     },
     "execution_count": 55,
     "metadata": {},
     "output_type": "execute_result"
    }
   ],
   "source": [
    "# Opening the train.csv files in a dataframe (using Pandas)\n",
    "train_data = pd.read_csv('Desktop/titanic/train.csv', header=0)\n",
    "train_data.info()\n",
    "df.head()"
   ]
  },
  {
   "cell_type": "code",
   "execution_count": 53,
   "metadata": {
    "collapsed": false
   },
   "outputs": [
    {
     "name": "stdout",
     "output_type": "stream",
     "text": [
      "[[1 0 3 ..., 7.25 nan 'S']\n",
      " [2 1 1 ..., 71.2833 'C85' 'C']\n",
      " [3 1 3 ..., 7.925 nan 'S']\n",
      " ..., \n",
      " [889 0 3 ..., 23.45 nan 'S']\n",
      " [890 1 1 ..., 30.0 'C148' 'C']\n",
      " [891 0 3 ..., 7.75 nan 'Q']]\n"
     ]
    }
   ],
   "source": [
    "# Converting dataframe to a Matrix format for usage\n",
    "data= train_data.as_matrix()\n",
    "print data"
   ]
  },
  {
   "cell_type": "code",
   "execution_count": 5,
   "metadata": {
    "collapsed": false
   },
   "outputs": [
    {
     "name": "stdout",
     "output_type": "stream",
     "text": [
      "[['1' '0' '3' ..., '7.25' '' 'S']\n",
      " ['2' '1' '1' ..., '71.2833' 'C85' 'C']\n",
      " ['3' '1' '3' ..., '7.925' '' 'S']\n",
      " ..., \n",
      " ['889' '0' '3' ..., '23.45' '' 'S']\n",
      " ['890' '1' '1' ..., '30' 'C148' 'C']\n",
      " ['891' '0' '3' ..., '7.75' '' 'Q']]\n"
     ]
    }
   ],
   "source": [
    "# Opening up train.csv file in a python object\n",
    "training_file = open('Desktop/titanic/train.csv','rb')\n",
    "training_data = csv.reader(training_file)\n",
    "header = training_data.next()\n",
    "\n",
    "# Adding training_data to a list\n",
    "data=[]\n",
    "for row in training_data:\n",
    "    data.append(row)\n",
    "data = np.array(data)\n",
    "print data"
   ]
  },
  {
   "cell_type": "code",
   "execution_count": 18,
   "metadata": {
    "collapsed": false
   },
   "outputs": [
    {
     "name": "stdout",
     "output_type": "stream",
     "text": [
      "Number of Passengers onboard : 891 \n",
      "Survived Passengers : 342.0 \n",
      "Proportion of Passengers Survived : 0.383838383838 \n"
     ]
    }
   ],
   "source": [
    "# Determining the proportions of surviving passengers using available data in train.csv\n",
    "number_passengers = np.size(data[0::,1].astype(np.float))\n",
    "number_survived = np.sum(data[0::,1].astype(np.float))\n",
    "proportion_survivors = number_survived / number_passengers\n",
    "print \"Number of Passengers onboard : %s \" % number_passengers\n",
    "print \"Survived Passengers : %s \" % number_survived\n",
    "print \"Proportion of Passengers Survived : %s \" % proportion_survivors"
   ]
  },
  {
   "cell_type": "code",
   "execution_count": 19,
   "metadata": {
    "collapsed": false
   },
   "outputs": [
    {
     "name": "stdout",
     "output_type": "stream",
     "text": [
      "No. of Women Survived : 233.0 / 314\n",
      "No. of Men Survived : 109.0 / 577\n"
     ]
    }
   ],
   "source": [
    "# Classification of available data based on Gender\n",
    "women_only_stats = data[0::,4] == \"female\"\n",
    "men_only_stats = data[0::,4] == \"male\"\n",
    "\n",
    "# Figures of total men and women survivors separately\n",
    "women_onboard = data[women_only_stats,1].astype(np.float)\n",
    "men_onboard = data[men_only_stats,1].astype(np.float)\n",
    "print \"No. of Women Survived : %s / %s\" % (np.sum(women_onboard), np.size(women_onboard))\n",
    "print \"No. of Men Survived : %s / %s\" % (np.sum(men_onboard), np.size(men_onboard))"
   ]
  },
  {
   "cell_type": "code",
   "execution_count": 21,
   "metadata": {
    "collapsed": false
   },
   "outputs": [
    {
     "name": "stdout",
     "output_type": "stream",
     "text": [
      "Proportion of women who survived : 0.742038216561\n",
      "Proportion of men who survived : 0.188908145581\n"
     ]
    }
   ],
   "source": [
    "# Individual Proportions of men and women survived\n",
    "proportion_women_survived = np.sum(women_onboard) / np.size(women_onboard)  \n",
    "proportion_men_survived = np.sum(men_onboard) / np.size(men_onboard) \n",
    "print 'Proportion of women who survived : %s' % proportion_women_survived\n",
    "print 'Proportion of men who survived : %s' % proportion_men_survived"
   ]
  },
  {
   "cell_type": "code",
   "execution_count": 22,
   "metadata": {
    "collapsed": true
   },
   "outputs": [],
   "source": [
    "# Opening up test.csv file in a python object\n",
    "test_file = open('Desktop/titanic/test.csv', 'rb')\n",
    "test_data = csv.reader(test_file)   #Object\n",
    "header = test_data.next()"
   ]
  },
  {
   "cell_type": "code",
   "execution_count": 25,
   "metadata": {
    "collapsed": true
   },
   "outputs": [],
   "source": [
    "# Writing Predicted data to a new file object\n",
    "prediction_file = open(\"Desktop/titanic/genderbasedmodel.csv\", \"wb\")\n",
    "prediction_data = csv.writer(prediction_file) #Object"
   ]
  },
  {
   "cell_type": "code",
   "execution_count": 26,
   "metadata": {
    "collapsed": false
   },
   "outputs": [],
   "source": [
    "# Adding 2 columns to the file - PassengerId and Survived , as per required output format\n",
    "prediction_data.writerow([\"PassengerId\",\"Survived\"])\n",
    "for row in test_data:\n",
    "    if row[3] == \"female\" :\n",
    "        prediction_data.writerow([row[0],'1'])\n",
    "    else:\n",
    "        prediction_data.writerow([row[0],'0'])\n",
    "\n",
    "# Closing the csv files\n",
    "test_file.close()\n",
    "prediction_file.close()"
   ]
  },
  {
   "cell_type": "code",
   "execution_count": 35,
   "metadata": {
    "collapsed": false
   },
   "outputs": [
    {
     "name": "stdout",
     "output_type": "stream",
     "text": [
      "Initializing Survival table of Dimensions (2 * 3 * 4)\n",
      "[[[ 0.  0.  0.  0.]\n",
      "  [ 0.  0.  0.  0.]\n",
      "  [ 0.  0.  0.  0.]]\n",
      "\n",
      " [[ 0.  0.  0.  0.]\n",
      "  [ 0.  0.  0.  0.]\n",
      "  [ 0.  0.  0.  0.]]]\n"
     ]
    }
   ],
   "source": [
    "# Model 2: Using a more refined Model based on Gender, Fare Price and Passenger Class\n",
    "\n",
    "# Defining fae bracket size and an upper bound to Fare\n",
    "fare_bracket_size = 10\n",
    "fare_ceiling = 40\n",
    "\n",
    "# Equating all fares greater than or equal to this bound to max limit in last price bracket\n",
    "data[data[0::,9].astype(np.float) >= fare_ceiling , 9] = fare_ceiling - 1.0\n",
    "\n",
    "# Determining number of price brackets and classes based on given data\n",
    "price_brackets = fare_ceiling / fare_bracket_size\n",
    "classes = len(np.unique(data[0::,2]))\n",
    "\n",
    "# Prepare a 3-D survival table having gender, number_of_classes, number_of_price_brackets as its dimensions\n",
    "survival_table = np.zeros((2,classes,price_brackets))\n",
    "print \"Initializing Survival table of Dimensions (2 * %s * %s)\"  % (classes,price_brackets)\n",
    "print survival_table"
   ]
  },
  {
   "cell_type": "code",
   "execution_count": 37,
   "metadata": {
    "collapsed": false
   },
   "outputs": [
    {
     "name": "stdout",
     "output_type": "stream",
     "text": [
      "[[[        nan         nan  0.83333333  0.97727273]\n",
      "  [        nan  0.91428571  0.9         1.        ]\n",
      "  [ 0.59375     0.58139535  0.33333333  0.125     ]]\n",
      "\n",
      " [[ 0.                 nan  0.4         0.38372093]\n",
      "  [ 0.          0.15873016  0.16        0.21428571]\n",
      "  [ 0.11153846  0.23684211  0.125       0.24      ]]]\n"
     ]
    }
   ],
   "source": [
    "# Adding Men/Women only Stats to the survival table based on the discussed parameters\n",
    "for i in xrange(number_of_classes):         #loop through each class\n",
    "  for j in xrange(number_of_price_brackets):   #loop through each price range\n",
    "    \n",
    "    women_only_stats = data[ (data[0::,4] == \"female\") & (data[0::,2].astype(np.float) == i+1)&\n",
    "                            (data[0:,9].astype(np.float)>= j*fare_bracket_size)& \\\n",
    "                            (data[0:,9].astype(np.float)< (j+1)*fare_bracket_size) , 1]\n",
    "    men_only_stats = data[ (data[0::,4] == \"male\") & (data[0::,2].astype(np.float) == i+1)&\n",
    "                            (data[0:,9].astype(np.float)>= j*fare_bracket_size)& \\\n",
    "                            (data[0:,9].astype(np.float)< (j+1)*fare_bracket_size) , 1]\n",
    "    \n",
    "    survival_table[0,i,j] = np.mean(women_only_stats.astype(np.float)) \n",
    "    survival_table[1,i,j] = np.mean(men_only_stats.astype(np.float))\n",
    "    \n",
    "print survival_table"
   ]
  },
  {
   "cell_type": "code",
   "execution_count": 38,
   "metadata": {
    "collapsed": false
   },
   "outputs": [
    {
     "name": "stdout",
     "output_type": "stream",
     "text": [
      "[[[ 0.          0.          0.83333333  0.97727273]\n",
      "  [ 0.          0.91428571  0.9         1.        ]\n",
      "  [ 0.59375     0.58139535  0.33333333  0.125     ]]\n",
      "\n",
      " [[ 0.          0.          0.4         0.38372093]\n",
      "  [ 0.          0.15873016  0.16        0.21428571]\n",
      "  [ 0.11153846  0.23684211  0.125       0.24      ]]]\n"
     ]
    }
   ],
   "source": [
    "# Taking Care of all the Nan's in the survival table\n",
    "survival_table[ survival_table != survival_table ] = 0\n",
    "print survival_table"
   ]
  },
  {
   "cell_type": "code",
   "execution_count": 39,
   "metadata": {
    "collapsed": false
   },
   "outputs": [
    {
     "name": "stdout",
     "output_type": "stream",
     "text": [
      "[[[ 0.  0.  1.  1.]\n",
      "  [ 0.  1.  1.  1.]\n",
      "  [ 1.  1.  0.  0.]]\n",
      "\n",
      " [[ 0.  0.  0.  0.]\n",
      "  [ 0.  0.  0.  0.]\n",
      "  [ 0.  0.  0.  0.]]]\n"
     ]
    }
   ],
   "source": [
    "# Selecting a threshold (=0.5) to make the values in the table either 0 or 1 (binary)\n",
    "survival_table[ survival_table < 0.5 ] = 0\n",
    "survival_table[ survival_table >= 0.5 ] = 1 \n",
    "print survival_table"
   ]
  },
  {
   "cell_type": "code",
   "execution_count": 40,
   "metadata": {
    "collapsed": true
   },
   "outputs": [],
   "source": [
    "# Opening up the test file and initializing the header\n",
    "test_file = open('Desktop/titanic/test.csv', 'rb')\n",
    "test_data = csv.reader(test_file)\n",
    "header = test_data.next()\n",
    "\n",
    "# Writing Predicted data to a newly created file object\n",
    "predictions_file = open(\"Desktop/titanic/genderclassmodel.csv\", \"wb\")\n",
    "pred_data = csv.writer(predictions_file)\n",
    "pred_data.writerow([\"PassengerId\", \"Survived\"])"
   ]
  },
  {
   "cell_type": "code",
   "execution_count": 47,
   "metadata": {
    "collapsed": false
   },
   "outputs": [],
   "source": [
    "# Populating the newly created file with values on the basis of the survival table\n",
    "for row in test_data:\n",
    "    set\n",
    "    for j in xrange(number_of_price_brackets):\n",
    "        try:\n",
    "            row[8]=float(row[8])\n",
    "        except:\n",
    "            bin_fare= 3-float(row[1])\n",
    "            break\n",
    "        if(row[8]>fare_ceiling):\n",
    "            bin_fare=number_of_price_brackets -1\n",
    "            break\n",
    "        if row[8] >= j * fare_bracket_size and row[8] < (j+1) * fare_bracket_size:  \n",
    "            bin_fare = j\n",
    "            break\n",
    "            \n",
    "        if row[3] == 'female':  \n",
    "            pred_data.writerow([row[0], \"%d\" % int(survival_table[0, int(row[1])-1, bin_fare])])\n",
    "        else:                                       \n",
    "            pred_data.writerow([row[0], \"%d\" % int(survival_table[1, int(row[1])-1, bin_fare])])"
   ]
  },
  {
   "cell_type": "code",
   "execution_count": 48,
   "metadata": {
    "collapsed": true
   },
   "outputs": [],
   "source": [
    "# Closing the csv files.\n",
    "test_file.close() \n",
    "predictions_file.close()"
   ]
  }
 ],
 "metadata": {
  "kernelspec": {
   "display_name": "Python 2",
   "language": "python",
   "name": "python2"
  },
  "language_info": {
   "codemirror_mode": {
    "name": "ipython",
    "version": 2
   },
   "file_extension": ".py",
   "mimetype": "text/x-python",
   "name": "python",
   "nbconvert_exporter": "python",
   "pygments_lexer": "ipython2",
   "version": "2.7.11"
  }
 },
 "nbformat": 4,
 "nbformat_minor": 0
}
