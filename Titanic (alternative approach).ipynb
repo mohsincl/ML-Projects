{
 "cells": [
  {
   "cell_type": "code",
   "execution_count": 3,
   "metadata": {
    "collapsed": false
   },
   "outputs": [
    {
     "name": "stdout",
     "output_type": "stream",
     "text": [
      "[['1' '0' '3' ..., '7.25' '' 'S']\n",
      " ['2' '1' '1' ..., '71.2833' 'C85' 'C']\n",
      " ['3' '1' '3' ..., '7.925' '' 'S']\n",
      " ..., \n",
      " ['889' '0' '3' ..., '23.45' '' 'S']\n",
      " ['890' '1' '1' ..., '30' 'C148' 'C']\n",
      " ['891' '0' '3' ..., '7.75' '' 'Q']]\n"
     ]
    }
   ],
   "source": [
    "import numpy as np\n",
    "import pandas as pd\n",
    "import matplotlib.pyplot as plt\n",
    "import csv\n",
    "\n",
    "#Opening up a csv file in a python object\n",
    "csv_file_object = csv.reader(open('Desktop/titanic/train.csv','rb'))\n",
    "header = csv_file_object.next()\n",
    "data=[]\n",
    "for row in csv_file_object:\n",
    "    data.append(row)\n",
    "data=np.array(data)\n",
    "print data"
   ]
  },
  {
   "cell_type": "code",
   "execution_count": 4,
   "metadata": {
    "collapsed": false
   },
   "outputs": [
    {
     "name": "stdout",
     "output_type": "stream",
     "text": [
      "['1' '0' '3' 'Braund, Mr. Owen Harris' 'male' '22' '1' '0' 'A/5 21171'\n",
      " '7.25' '' 'S']\n",
      "['891' '0' '3' 'Dooley, Mr. Patrick' 'male' '32' '0' '0' '370376' '7.75' ''\n",
      " 'Q']\n",
      "Braund, Mr. Owen Harris\n"
     ]
    }
   ],
   "source": [
    "print data[0]\n",
    "print data[-1]\n",
    "print data[0,3]"
   ]
  },
  {
   "cell_type": "code",
   "execution_count": 5,
   "metadata": {
    "collapsed": false
   },
   "outputs": [
    {
     "name": "stdout",
     "output_type": "stream",
     "text": [
      "891\n",
      "342.0\n",
      "0.383838383838\n"
     ]
    }
   ],
   "source": [
    "number_passengers = np.size(data[0::,1].astype(np.float))\n",
    "number_survived = np.sum(data[0::,1].astype(np.float))\n",
    "proportion_survivors = number_survived / number_passengers\n",
    "print number_passengers\n",
    "print number_survived\n",
    "print proportion_survivors"
   ]
  },
  {
   "cell_type": "code",
   "execution_count": 6,
   "metadata": {
    "collapsed": false
   },
   "outputs": [
    {
     "name": "stdout",
     "output_type": "stream",
     "text": [
      "[False  True  True  True False False False False  True  True  True  True\n",
      " False False  True  True False False  True  True False False  True False\n",
      "  True  True False False  True False False  True  True False False False\n",
      " False False  True  True  True  True False  True  True False False  True\n",
      " False  True False False  True  True False False  True False  True False\n",
      " False  True False False False False  True False  True False False  True\n",
      " False False False False False False False  True False False  True False\n",
      "  True  True False False  True False False False False False False False\n",
      " False False  True False  True False False False False False  True False\n",
      " False  True False  True False  True  True False False False False  True\n",
      " False False False  True False False False False  True False False False\n",
      "  True  True False False  True False False False  True  True  True False\n",
      " False False False  True False False False  True False False False False\n",
      "  True False False False False  True False False False False  True  True\n",
      " False False False False  True False False False False  True False False\n",
      "  True False False False  True False  True False False False  True False\n",
      "  True False  True  True False False  True  True False False False False\n",
      " False  True False False  True False False  True False False False  True\n",
      "  True False  True False False False False False False False False False\n",
      " False  True  True False False  True False  True False  True False False\n",
      "  True  True False False False False  True  True False False False  True\n",
      " False False  True  True  True  True  True  True False False False False\n",
      "  True False False False  True  True False False  True False  True  True\n",
      "  True False False  True False False False False False False False False\n",
      " False  True  True  True False  True False False False  True False  True\n",
      "  True False False  True False False  True  True False  True  True  True\n",
      "  True False False  True  True False  True  True False False  True  True\n",
      " False  True False  True  True  True  True False False False  True False\n",
      " False  True False False False  True False False False  True  True  True\n",
      " False False False False False False False False  True  True  True  True\n",
      " False False  True False False False  True  True  True  True False False\n",
      " False False  True  True  True False False False  True  True False  True\n",
      " False False False  True False  True False False False  True  True False\n",
      "  True False False  True False False  True False  True False False False\n",
      " False  True False False  True False False  True  True  True False  True\n",
      " False False False  True False False  True  True False False False  True\n",
      "  True False False  True  True  True False False  True False False  True\n",
      " False False  True False  True False False False False False False False\n",
      " False  True  True False False False False False False False False False\n",
      " False  True False False  True  True  True False False False False  True\n",
      " False False False  True False  True  True False False False False False\n",
      " False False False False  True False  True False False  True  True  True\n",
      "  True False  True False False False False False False  True False False\n",
      "  True False  True False  True False False  True False False  True False\n",
      " False False  True False False  True  True  True False  True False  True\n",
      "  True  True  True False False False  True False False False False False\n",
      " False False  True False  True False  True  True False False False False\n",
      "  True False False  True False False False  True False  True False False\n",
      "  True  True  True False  True  True False False False  True False False\n",
      " False False False  True False  True False False  True False False False\n",
      "  True False False False False False False False  True  True  True False\n",
      "  True False False  True False  True  True False False False False False\n",
      " False False False  True False False False False False False  True  True\n",
      " False False  True False False  True  True False  True False False False\n",
      " False  True False  True False  True  True False False  True False False\n",
      " False False False False False False False False False  True  True False\n",
      " False False False False False  True  True False  True False False False\n",
      " False False False False False  True False  True False False False False\n",
      " False  True False False  True False  True False False False  True False\n",
      "  True False  True False False False False False  True  True False False\n",
      "  True False False False False False  True  True False  True  True False\n",
      " False False False False  True False False False False False  True False\n",
      " False False False  True False False  True False False False  True False\n",
      " False False False  True False False False  True False  True False  True\n",
      " False False False False  True False  True False False  True False  True\n",
      "  True  True False False False False  True False False False False False\n",
      "  True False False False  True  True False  True False  True False False\n",
      " False False False  True False  True False False False  True False False\n",
      "  True False False False  True False False  True False False False False\n",
      " False  True  True False False False False  True False False False False\n",
      " False False  True False False False False False False  True False False\n",
      "  True  True  True  True  True False  True False False False  True  True\n",
      " False  True  True False False False False  True False False  True  True\n",
      " False False False  True  True False  True False False  True False  True\n",
      "  True False False]\n",
      "[ True False False False  True  True  True  True False False False False\n",
      "  True  True False False  True  True False False  True  True False  True\n",
      " False False  True  True False  True  True False False  True  True  True\n",
      "  True  True False False False False  True False False  True  True False\n",
      "  True False  True  True False False  True  True False  True False  True\n",
      "  True False  True  True  True  True False  True False  True  True False\n",
      "  True  True  True  True  True  True  True False  True  True False  True\n",
      " False False  True  True False  True  True  True  True  True  True  True\n",
      "  True  True False  True False  True  True  True  True  True False  True\n",
      "  True False  True False  True False False  True  True  True  True False\n",
      "  True  True  True False  True  True  True  True False  True  True  True\n",
      " False False  True  True False  True  True  True False False False  True\n",
      "  True  True  True False  True  True  True False  True  True  True  True\n",
      " False  True  True  True  True False  True  True  True  True False False\n",
      "  True  True  True  True False  True  True  True  True False  True  True\n",
      " False  True  True  True False  True False  True  True  True False  True\n",
      " False  True False False  True  True False False  True  True  True  True\n",
      "  True False  True  True False  True  True False  True  True  True False\n",
      " False  True False  True  True  True  True  True  True  True  True  True\n",
      "  True False False  True  True False  True False  True False  True  True\n",
      " False False  True  True  True  True False False  True  True  True False\n",
      "  True  True False False False False False False  True  True  True  True\n",
      " False  True  True  True False False  True  True False  True False False\n",
      " False  True  True False  True  True  True  True  True  True  True  True\n",
      "  True False False False  True False  True  True  True False  True False\n",
      " False  True  True False  True  True False False  True False False False\n",
      " False  True  True False False  True False False  True  True False False\n",
      "  True False  True False False False False  True  True  True False  True\n",
      "  True False  True  True  True False  True  True  True False False False\n",
      "  True  True  True  True  True  True  True  True False False False False\n",
      "  True  True False  True  True  True False False False False  True  True\n",
      "  True  True False False False  True  True  True False False  True False\n",
      "  True  True  True False  True False  True  True  True False False  True\n",
      " False  True  True False  True  True False  True False  True  True  True\n",
      "  True False  True  True False  True  True False False False  True False\n",
      "  True  True  True False  True  True False False  True  True  True False\n",
      " False  True  True False False False  True  True False  True  True False\n",
      "  True  True False  True False  True  True  True  True  True  True  True\n",
      "  True False False  True  True  True  True  True  True  True  True  True\n",
      "  True False  True  True False False False  True  True  True  True False\n",
      "  True  True  True False  True False False  True  True  True  True  True\n",
      "  True  True  True  True False  True False  True  True False False False\n",
      " False  True False  True  True  True  True  True  True False  True  True\n",
      " False  True False  True False  True  True False  True  True False  True\n",
      "  True  True False  True  True False False False  True False  True False\n",
      " False False False  True  True  True False  True  True  True  True  True\n",
      "  True  True False  True False  True False False  True  True  True  True\n",
      " False  True  True False  True  True  True False  True False  True  True\n",
      " False False False  True False False  True  True  True False  True  True\n",
      "  True  True  True False  True False  True  True False  True  True  True\n",
      " False  True  True  True  True  True  True  True False False False  True\n",
      " False  True  True False  True False False  True  True  True  True  True\n",
      "  True  True  True False  True  True  True  True  True  True False False\n",
      "  True  True False  True  True False False  True False  True  True  True\n",
      "  True False  True False  True False False  True  True False  True  True\n",
      "  True  True  True  True  True  True  True  True  True False False  True\n",
      "  True  True  True  True  True False False  True False  True  True  True\n",
      "  True  True  True  True  True False  True False  True  True  True  True\n",
      "  True False  True  True False  True False  True  True  True False  True\n",
      " False  True False  True  True  True  True  True False False  True  True\n",
      " False  True  True  True  True  True False False  True False False  True\n",
      "  True  True  True  True False  True  True  True  True  True False  True\n",
      "  True  True  True False  True  True False  True  True  True False  True\n",
      "  True  True  True False  True  True  True False  True False  True False\n",
      "  True  True  True  True False  True False  True  True False  True False\n",
      " False False  True  True  True  True False  True  True  True  True  True\n",
      " False  True  True  True False False  True False  True False  True  True\n",
      "  True  True  True False  True False  True  True  True False  True  True\n",
      " False  True  True  True False  True  True False  True  True  True  True\n",
      "  True False False  True  True  True  True False  True  True  True  True\n",
      "  True  True False  True  True  True  True  True  True False  True  True\n",
      " False False False False False  True False  True  True  True False False\n",
      "  True False False  True  True  True  True False  True  True False False\n",
      "  True  True  True False False  True False  True  True False  True False\n",
      " False  True  True]\n"
     ]
    }
   ],
   "source": [
    "women_only_stats = data[0::,4] == \"female\"\n",
    "men_only_stats = data[0::,4] != \"female\"\n",
    "print women_only_stats\n",
    "print men_only_stats"
   ]
  },
  {
   "cell_type": "code",
   "execution_count": 7,
   "metadata": {
    "collapsed": false
   },
   "outputs": [
    {
     "name": "stdout",
     "output_type": "stream",
     "text": [
      "Proportion of women who survived is 0.742038216561\n",
      "Proportion of men who survived is 0.188908145581\n"
     ]
    }
   ],
   "source": [
    "women_onboard = data[women_only_stats,1].astype(np.float)\n",
    "men_onboard = data[men_only_stats,1].astype(np.float)\n",
    "proportion_women_survived = np.sum(women_onboard) / np.size(women_onboard)  \n",
    "proportion_men_survived = np.sum(men_onboard) / np.size(men_onboard) \n",
    "print 'Proportion of women who survived is %s' % proportion_women_survived\n",
    "print 'Proportion of men who survived is %s' % proportion_men_survived"
   ]
  },
  {
   "cell_type": "code",
   "execution_count": 9,
   "metadata": {
    "collapsed": false
   },
   "outputs": [],
   "source": [
    "test_file = open('Desktop/titanic/test.csv', 'rb')\n",
    "test_file_object = csv.reader(test_file)\n",
    "header = test_file_object.next()"
   ]
  },
  {
   "cell_type": "code",
   "execution_count": 10,
   "metadata": {
    "collapsed": false
   },
   "outputs": [],
   "source": [
    "prediction_file = open(\"Desktop/titanic/genderbasedmodel.csv\", \"wb\")\n",
    "prediction_file_object = csv.writer(prediction_file)"
   ]
  },
  {
   "cell_type": "code",
   "execution_count": 11,
   "metadata": {
    "collapsed": false
   },
   "outputs": [],
   "source": [
    "prediction_file_object.writerow([\"PassengerId\",\"Survived\"])\n",
    "for row in test_file_object:\n",
    "    if row[3] == \"female\" :\n",
    "        prediction_file_object.writerow([row[0],'1'])\n",
    "    else:\n",
    "        prediction_file_object.writerow([row[0],'0'])\n",
    "test_file.close()\n",
    "prediction_file.close()"
   ]
  },
  {
   "cell_type": "code",
   "execution_count": 72,
   "metadata": {
    "collapsed": false
   },
   "outputs": [
    {
     "name": "stdout",
     "output_type": "stream",
     "text": [
      "3\n",
      "[[[ 0.  0.  0.  0.]\n",
      "  [ 0.  0.  0.  0.]\n",
      "  [ 0.  0.  0.  0.]]\n",
      "\n",
      " [[ 0.  0.  0.  0.]\n",
      "  [ 0.  0.  0.  0.]\n",
      "  [ 0.  0.  0.  0.]]]\n"
     ]
    }
   ],
   "source": [
    "fare_ceiling = 40\n",
    "data[data[0::,9].astype(np.float) >= fare_ceiling , 9] = fare_ceiling - 1.0\n",
    "\n",
    "fare_bracket_size = 10\n",
    "price_brackets = fare_ceiling / fare_bracket_size\n",
    "number_classes = 3\n",
    "number_of_classes = len(np.unique(data[0::,2]))\n",
    "survival_table = np.zeros((2,number_of_classes,number_of_price_brackets))\n",
    "print number_of_classes\n",
    "print survival_table"
   ]
  },
  {
   "cell_type": "code",
   "execution_count": 73,
   "metadata": {
    "collapsed": false
   },
   "outputs": [
    {
     "name": "stdout",
     "output_type": "stream",
     "text": [
      "[]\n",
      "['0' '0' '0' '0' '0' '0']\n",
      "[]\n",
      "[]\n",
      "['1' '1' '0' '1' '1' '1']\n",
      "['0' '0' '0' '1' '0' '0' '0' '0' '0' '1' '1' '0' '0' '1' '0' '0' '1' '1'\n",
      " '0' '0' '0' '1' '1' '0' '0' '1' '1' '0' '1' '1']\n",
      "['1' '1' '1' '1' '1' '1' '1' '1' '1' '1' '1' '1' '1' '1' '1' '1' '1' '1'\n",
      " '1' '1' '0' '1' '1' '1' '1' '1' '1' '1' '1' '1' '1' '1' '1' '1' '1' '1'\n",
      " '1' '1' '1' '1' '1' '1' '1' '1' '1' '1' '0' '1' '1' '1' '1' '1' '1' '1'\n",
      " '1' '1' '1' '1' '1' '1' '1' '1' '1' '1' '1' '1' '1' '1' '1' '1' '1' '1'\n",
      " '1' '1' '1' '1' '1' '1' '1' '1' '1' '1' '1' '1' '1' '1' '1' '1']\n",
      "['0' '1' '0' '0' '0' '0' '1' '0' '0' '0' '0' '1' '0' '0' '0' '0' '0' '0'\n",
      " '0' '0' '0' '0' '1' '1' '0' '1' '0' '0' '1' '1' '0' '0' '0' '0' '1' '0'\n",
      " '0' '1' '0' '0' '1' '1' '1' '0' '0' '1' '0' '0' '0' '0' '0' '0' '1' '0'\n",
      " '0' '1' '1' '0' '1' '1' '0' '1' '1' '1' '1' '0' '1' '0' '1' '1' '1' '0'\n",
      " '1' '1' '1' '1' '0' '0' '0' '0' '0' '0' '0' '1' '0' '1']\n",
      "[]\n",
      "['0' '0' '0' '0' '0' '0']\n",
      "['1' '1' '1' '1' '1' '1' '1' '0' '1' '1' '1' '1' '1' '1' '1' '0' '1' '1'\n",
      " '1' '1' '1' '1' '1' '1' '1' '1' '1' '1' '1' '1' '1' '1' '0' '1' '1']\n",
      "['1' '1' '0' '0' '0' '0' '0' '0' '0' '0' '0' '0' '0' '0' '0' '1' '0' '0'\n",
      " '0' '0' '0' '0' '0' '1' '0' '0' '0' '0' '0' '0' '1' '0' '0' '0' '0' '1'\n",
      " '0' '1' '0' '0' '0' '0' '0' '0' '1' '0' '0' '0' '0' '0' '0' '1' '0' '0'\n",
      " '0' '0' '0' '1' '0' '0' '0' '0' '0']\n",
      "['0' '1' '1' '1' '1' '1' '1' '1' '0' '1' '1' '1' '1' '1' '1' '1' '1' '1'\n",
      " '1' '1' '1' '1' '1' '1' '1' '1' '1' '0' '1' '1']\n",
      "['0' '1' '0' '0' '0' '1' '0' '0' '0' '0' '0' '1' '0' '0' '0' '0' '0' '1'\n",
      " '0' '0' '0' '0' '0' '0' '0']\n",
      "['1' '1' '1' '1' '1' '1' '1' '1' '1' '1' '1']\n",
      "['0' '0' '0' '0' '1' '0' '1' '0' '0' '0' '0' '0' '1' '0']\n",
      "['1' '0' '1' '1' '1' '1' '0' '1' '1' '1' '1' '0' '1' '0' '1' '1' '1' '1'\n",
      " '1' '1' '0' '0' '0' '1' '0' '1' '0' '1' '1' '1' '1' '1' '1' '1' '0' '0'\n",
      " '0' '0' '0' '1' '0' '0' '0' '0' '1' '0' '1' '0' '1' '1' '0' '1' '0' '1'\n",
      " '1' '0' '0' '1' '1' '1' '0' '0' '1' '1']\n",
      "['0' '0' '0' '0' '0' '0' '1' '0' '0' '0' '0' '0' '0' '0' '0' '0' '0' '0'\n",
      " '0' '1' '0' '0' '0' '0' '0' '0' '0' '0' '0' '0' '1' '0' '0' '0' '0' '0'\n",
      " '0' '1' '0' '0' '0' '0' '0' '1' '0' '0' '0' '0' '0' '0' '0' '0' '0' '0'\n",
      " '0' '0' '0' '0' '0' '1' '0' '0' '0' '1' '0' '0' '0' '0' '0' '0' '0' '0'\n",
      " '0' '1' '1' '0' '0' '0' '1' '0' '1' '0' '0' '0' '0' '0' '0' '0' '0' '0'\n",
      " '0' '1' '0' '0' '0' '0' '0' '0' '0' '0' '0' '0' '0' '0' '0' '0' '1' '0'\n",
      " '0' '1' '0' '0' '0' '0' '0' '1' '0' '0' '0' '0' '0' '1' '0' '0' '0' '1'\n",
      " '0' '1' '0' '0' '0' '0' '0' '0' '0' '0' '0' '0' '0' '0' '0' '0' '0' '1'\n",
      " '0' '0' '0' '0' '0' '0' '0' '0' '0' '0' '0' '1' '0' '0' '0' '0' '0' '1'\n",
      " '0' '1' '0' '0' '0' '0' '0' '0' '0' '0' '0' '0' '0' '0' '0' '0' '0' '0'\n",
      " '0' '0' '0' '0' '0' '0' '0' '0' '0' '0' '1' '0' '0' '0' '0' '0' '0' '0'\n",
      " '0' '0' '0' '0' '0' '0' '0' '0' '0' '0' '0' '1' '0' '0' '0' '0' '0' '0'\n",
      " '1' '0' '0' '0' '0' '0' '0' '0' '0' '0' '0' '0' '0' '0' '1' '1' '0' '0'\n",
      " '0' '0' '1' '0' '1' '0' '0' '0' '0' '0' '0' '0' '0' '0' '0' '0' '0' '0'\n",
      " '0' '0' '0' '0' '0' '0' '0' '0']\n",
      "['1' '1' '0' '0' '1' '0' '1' '1' '0' '0' '0' '0' '1' '1' '1' '0' '0' '1'\n",
      " '0' '1' '1' '0' '1' '1' '0' '1' '1' '1' '1' '1' '0' '1' '0' '1' '0' '1'\n",
      " '0' '1' '1' '1' '0' '1' '0']\n",
      "['0' '1' '0' '1' '0' '0' '0' '0' '1' '0' '0' '1' '0' '0' '0' '0' '1' '0'\n",
      " '0' '0' '0' '0' '0' '0' '0' '1' '0' '0' '0' '1' '0' '0' '0' '0' '1' '0'\n",
      " '0' '1']\n",
      "['0' '1' '1' '0' '1' '0' '0' '1' '1' '1' '0' '0' '0' '0' '1' '0' '0' '0'\n",
      " '0' '0' '0']\n",
      "['0' '0' '0' '0' '0' '1' '0' '0' '0' '1' '0' '0' '0' '0' '0' '0' '0' '0'\n",
      " '0' '0' '0' '1' '0' '0']\n",
      "['1' '0' '0' '0' '0' '1' '0' '0' '0' '0' '0' '0' '0' '0' '0' '0']\n",
      "['0' '0' '0' '1' '0' '0' '0' '0' '0' '0' '1' '0' '0' '0' '0' '1' '1' '0'\n",
      " '0' '1' '0' '0' '1' '0' '0']\n"
     ]
    }
   ],
   "source": [
    "for i in xrange(number_of_classes):       #loop through each class\n",
    "  for j in xrange(number_of_price_brackets):   #loop through each price bin\n",
    "    \n",
    "    women_only_stats = data[ (data[0::,4] == \"female\")&(data[0::,2].astype(np.float) == i+1)&\n",
    "                            (data[0:,9].astype(np.float)>= j*fare_bracket_size)& \\\n",
    "                            (data[0:,9].astype(np.float)< (j+1)*fare_bracket_size) , 1]\n",
    "    men_only_stats = data[ (data[0::,4] != \"female\")&(data[0::,2].astype(np.float) == i+1)&\n",
    "                            (data[0:,9].astype(np.float)>= j*fare_bracket_size)& \\\n",
    "                            (data[0:,9].astype(np.float)< (j+1)*fare_bracket_size) , 1]\n",
    "    \n",
    "    survival_table[0,i,j] = np.mean(women_only_stats.astype(np.float)) \n",
    "    survival_table[1,i,j] = np.mean(men_only_stats.astype(np.float))"
   ]
  },
  {
   "cell_type": "code",
   "execution_count": 74,
   "metadata": {
    "collapsed": false
   },
   "outputs": [
    {
     "name": "stdout",
     "output_type": "stream",
     "text": [
      "[[[ 0.          0.          0.83333333  0.97727273]\n",
      "  [ 0.          0.91428571  0.9         1.        ]\n",
      "  [ 0.59375     0.58139535  0.33333333  0.125     ]]\n",
      "\n",
      " [[ 0.          0.          0.4         0.38372093]\n",
      "  [ 0.          0.15873016  0.16        0.21428571]\n",
      "  [ 0.11153846  0.23684211  0.125       0.24      ]]]\n"
     ]
    }
   ],
   "source": [
    "survival_table[ survival_table != survival_table ] = 0\n",
    "print survival_table"
   ]
  },
  {
   "cell_type": "code",
   "execution_count": 75,
   "metadata": {
    "collapsed": false
   },
   "outputs": [
    {
     "name": "stdout",
     "output_type": "stream",
     "text": [
      "[[[ 0.  0.  1.  1.]\n",
      "  [ 0.  1.  1.  1.]\n",
      "  [ 1.  1.  0.  0.]]\n",
      "\n",
      " [[ 0.  0.  0.  0.]\n",
      "  [ 0.  0.  0.  0.]\n",
      "  [ 0.  0.  0.  0.]]]\n"
     ]
    }
   ],
   "source": [
    "survival_table[ survival_table < 0.5 ] = 0\n",
    "survival_table[ survival_table >= 0.5 ] = 1 \n",
    "print survival_table"
   ]
  },
  {
   "cell_type": "code",
   "execution_count": 76,
   "metadata": {
    "collapsed": true
   },
   "outputs": [],
   "source": [
    "test_file = open('Desktop/titanic/test.csv', 'rb')\n",
    "test_file_object = csv.reader(test_file)\n",
    "header = test_file_object.next()\n",
    "predictions_file = open(\"Desktop/titanic/genderclassmodel.csv\", \"wb\")\n",
    "p = csv.writer(predictions_file)\n",
    "p.writerow([\"PassengerId\", \"Survived\"])"
   ]
  },
  {
   "cell_type": "code",
   "execution_count": 77,
   "metadata": {
    "collapsed": false
   },
   "outputs": [
    {
     "name": "stderr",
     "output_type": "stream",
     "text": [
      "/home/tarzilams/anaconda2/lib/python2.7/site-packages/ipykernel/__main__.py:17: DeprecationWarning: using a non-integer number instead of an integer will result in an error in the future\n",
      "/home/tarzilams/anaconda2/lib/python2.7/site-packages/ipykernel/__main__.py:19: DeprecationWarning: using a non-integer number instead of an integer will result in an error in the future\n"
     ]
    }
   ],
   "source": [
    "#Populating the new\n",
    "for row in test_file_object:\n",
    "    set\n",
    "    for j in xrange(number_of_price_brackets):\n",
    "        try:\n",
    "            row[8]=float(row[8])\n",
    "        except:\n",
    "            bin_fare= 3-float(row[1])\n",
    "            break\n",
    "        if(row[8]>fare_ceiling):\n",
    "            bin_fare=number_of_price_brackets -1\n",
    "            break\n",
    "        if row[8] >= j * fare_bracket_size and row[8] < (j+1) * fare_bracket_size:  \n",
    "            bin_fare = j\n",
    "            break\n",
    "            \n",
    "        if row[3] == 'female':  \n",
    "            p.writerow([row[0], \"%d\" % int(survival_table[0, float(row[1])-1, bin_fare])])\n",
    "        else:                                       \n",
    "            p.writerow([row[0], \"%d\" % int(survival_table[1, float(row[1])-1, bin_fare])])\n",
    "     \n",
    "# Close out the files.\n",
    "test_file.close() \n",
    "predictions_file.close()"
   ]
  },
  {
   "cell_type": "code",
   "execution_count": null,
   "metadata": {
    "collapsed": true
   },
   "outputs": [],
   "source": []
  }
 ],
 "metadata": {
  "kernelspec": {
   "display_name": "Python 2",
   "language": "python",
   "name": "python2"
  },
  "language_info": {
   "codemirror_mode": {
    "name": "ipython",
    "version": 2
   },
   "file_extension": ".py",
   "mimetype": "text/x-python",
   "name": "python",
   "nbconvert_exporter": "python",
   "pygments_lexer": "ipython2",
   "version": "2.7.11"
  }
 },
 "nbformat": 4,
 "nbformat_minor": 0
}
